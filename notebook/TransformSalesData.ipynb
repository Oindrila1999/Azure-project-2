{
 "cells": [
  {
   "cell_type": "markdown",
   "metadata": {
    "application/vnd.databricks.v1+cell": {
     "cellMetadata": {},
     "inputWidgets": {},
     "nuid": "fd145732-be91-4b2e-bdfe-ab5ee0fbbb80",
     "showTitle": false,
     "tableResultSettingsMap": {},
     "title": ""
    }
   },
   "source": [
    "### IMPORT LIBRARIES"
   ]
  },
  {
   "cell_type": "code",
   "execution_count": 0,
   "metadata": {
    "application/vnd.databricks.v1+cell": {
     "cellMetadata": {
      "byteLimit": 2048000,
      "rowLimit": 10000
     },
     "inputWidgets": {},
     "nuid": "b4f2d694-0fda-4be9-854e-09491065cfcf",
     "showTitle": false,
     "tableResultSettingsMap": {},
     "title": ""
    }
   },
   "outputs": [],
   "source": [
    "import pyspark\n",
    "from pyspark.sql import SparkSession\n",
    "from pyspark.sql.functions import *\n",
    "from pyspark.sql.types import *\n",
    "from pyspark.sql import *"
   ]
  },
  {
   "cell_type": "markdown",
   "metadata": {
    "application/vnd.databricks.v1+cell": {
     "cellMetadata": {
      "byteLimit": 2048000,
      "rowLimit": 10000
     },
     "inputWidgets": {},
     "nuid": "cff6db4d-7ac9-4db1-ac6d-3433c82b161e",
     "showTitle": false,
     "tableResultSettingsMap": {},
     "title": ""
    }
   },
   "source": [
    "### CONFIGURE DATALAKE + DATABRICKS ACCESS"
   ]
  },
  {
   "cell_type": "code",
   "execution_count": 0,
   "metadata": {
    "application/vnd.databricks.v1+cell": {
     "cellMetadata": {
      "byteLimit": 2048000,
      "rowLimit": 10000
     },
     "inputWidgets": {},
     "nuid": "1f1e1875-acb9-470c-8e70-9c268d15fea0",
     "showTitle": false,
     "tableResultSettingsMap": {},
     "title": ""
    }
   },
   "outputs": [],
   "source": [
    "configs = {\n",
    "    \"fs.azure.account.auth.type\": \"OAuth\",\n",
    "    \"fs.azure.account.oauth.provider.type\": \"org.apache.hadoop.fs.azurebfs.oauth2.ClientCredsTokenProvider\",\n",
    "    \"fs.azure.account.oauth2.client.id\": \"4fb90b9b-dc4b-423e-b6a0-b69e7ec6c133\",\n",
    "    \"fs.azure.account.oauth2.client.secret\": dbutils.secrets.get(\"oinscope\",\"oinSP-ID\"),\n",
    "    \"fs.azure.account.oauth2.client.endpoint\": \"https://login.microsoftonline.com/d190dabc-b32b-45d1-8fa5-dec58f0885a2/oauth2/token\"\n",
    "}"
   ]
  },
  {
   "cell_type": "code",
   "execution_count": 0,
   "metadata": {
    "application/vnd.databricks.v1+cell": {
     "cellMetadata": {
      "byteLimit": 2048000,
      "rowLimit": 10000
     },
     "inputWidgets": {},
     "nuid": "a1817b56-42ae-40bd-8031-4c7dc69e7ef2",
     "showTitle": false,
     "tableResultSettingsMap": {},
     "title": ""
    },
    "jupyter": {
     "source_hidden": true
    }
   },
   "outputs": [],
   "source": [
    "spark.conf.set(\"fs.azure.account.auth.type.storageadlsdemooin.dfs.core.windows.net\", \"OAuth\")\n",
    "spark.conf.set(\"fs.azure.account.oauth.provider.type.storageadlsdemooin.dfs.core.windows.net\", \"org.apache.hadoop.fs.azurebfs.oauth2.ClientCredsTokenProvider\")\n",
    "spark.conf.set(\"fs.azure.account.oauth2.client.id.storageadlsdemooin.dfs.core.windows.net\", \"4fb90b9b-dc4b-423e-b6a0-b69e7ec6c133\")\n",
    "spark.conf.set(\"fs.azure.account.oauth2.client.secret.storageadlsdemooin.dfs.core.windows.net\", dbutils.secrets.get(\"oinscope\",\"oinSP-ID\"))\n",
    "spark.conf.set(\"fs.azure.account.oauth2.client.endpoint.storageadlsdemooin.dfs.core.windows.net\", \"https://login.microsoftonline.com/d190dabc-b32b-45d1-8fa5-dec58f0885a2/oauth2/token\")"
   ]
  },
  {
   "cell_type": "code",
   "execution_count": 0,
   "metadata": {
    "application/vnd.databricks.v1+cell": {
     "cellMetadata": {
      "byteLimit": 2048000,
      "rowLimit": 10000
     },
     "inputWidgets": {},
     "nuid": "46d31712-571b-4013-97e1-21bc7560e82f",
     "showTitle": false,
     "tableResultSettingsMap": {},
     "title": ""
    }
   },
   "outputs": [],
   "source": [
    "dbutils.widgets.text(name = \"StorageAccountName\", defaultValue = \"\", label = \"StorageAccountName\")\n",
    "dbutils.widgets.text(name = \"ContainerName\", defaultValue = \"\" , label = \"ContainerName\")"
   ]
  },
  {
   "cell_type": "markdown",
   "metadata": {
    "application/vnd.databricks.v1+cell": {
     "cellMetadata": {},
     "inputWidgets": {},
     "nuid": "da4cd2ae-f58c-4511-9b72-1cf0a1d6b5cf",
     "showTitle": false,
     "tableResultSettingsMap": {},
     "title": ""
    }
   },
   "source": [
    "### GET WIDGETS VALUE"
   ]
  },
  {
   "cell_type": "code",
   "execution_count": 0,
   "metadata": {
    "application/vnd.databricks.v1+cell": {
     "cellMetadata": {
      "byteLimit": 2048000,
      "rowLimit": 10000
     },
     "inputWidgets": {},
     "nuid": "bca8db1d-a7de-4b59-9234-6da26f23b338",
     "showTitle": false,
     "tableResultSettingsMap": {},
     "title": ""
    }
   },
   "outputs": [],
   "source": [
    "storage_acc = dbutils.widgets.get(\"StorageAccountName\")\n",
    "container = dbutils.widgets.get(\"ContainerName\")"
   ]
  },
  {
   "cell_type": "markdown",
   "metadata": {
    "application/vnd.databricks.v1+cell": {
     "cellMetadata": {},
     "inputWidgets": {},
     "nuid": "a13f2357-c5b8-42c1-90ce-70e37180afe3",
     "showTitle": false,
     "tableResultSettingsMap": {},
     "title": ""
    }
   },
   "source": [
    "### CREATE MOUNT POINT"
   ]
  },
  {
   "cell_type": "code",
   "execution_count": 0,
   "metadata": {
    "application/vnd.databricks.v1+cell": {
     "cellMetadata": {
      "byteLimit": 2048000,
      "rowLimit": 10000
     },
     "inputWidgets": {},
     "nuid": "00517dd9-37b3-49d0-97e3-3e5a7e1af1f4",
     "showTitle": false,
     "tableResultSettingsMap": {},
     "title": ""
    }
   },
   "outputs": [],
   "source": [
    "if \"/mnt/mount-raw-container\" in [m.mountPoint for m in dbutils.fs.mounts()]:\n",
    "    dbutils.fs.unmount(\"/mnt/mount-raw-container\")\n",
    "else:\n",
    "    dbutils.fs.mount(source = f\"abfss://{container}@{storage_acc}.dfs.core.windows.net\",\n",
    "                    mount_point = \"/mnt/mount-raw-container\",\n",
    "                    extra_configs = configs)"
   ]
  },
  {
   "cell_type": "markdown",
   "metadata": {
    "application/vnd.databricks.v1+cell": {
     "cellMetadata": {},
     "inputWidgets": {},
     "nuid": "894b8c40-0b03-4cca-b355-1d739f9972e2",
     "showTitle": false,
     "tableResultSettingsMap": {},
     "title": ""
    }
   },
   "source": [
    "### Read the CSV file into a Spark DataFrame"
   ]
  },
  {
   "cell_type": "code",
   "execution_count": 0,
   "metadata": {
    "application/vnd.databricks.v1+cell": {
     "cellMetadata": {
      "byteLimit": 2048000,
      "rowLimit": 10000
     },
     "inputWidgets": {},
     "nuid": "3cd5b6ed-aae3-4f92-9f20-510d125988ef",
     "showTitle": false,
     "tableResultSettingsMap": {},
     "title": ""
    }
   },
   "outputs": [
    {
     "output_type": "display_data",
     "data": {
      "text/html": [
       "<style scoped>\n",
       "  .table-result-container {\n",
       "    max-height: 300px;\n",
       "    overflow: auto;\n",
       "  }\n",
       "  table, th, td {\n",
       "    border: 1px solid black;\n",
       "    border-collapse: collapse;\n",
       "  }\n",
       "  th, td {\n",
       "    padding: 5px;\n",
       "  }\n",
       "  th {\n",
       "    text-align: left;\n",
       "  }\n",
       "</style><div class='table-result-container'><table class='table-result'><thead style='background-color: white'><tr><th>Date</th><th>Product</th><th>Region</th><th>UnitsSold</th><th>UnitPrice</th></tr></thead><tbody><tr><td>2025-01-01</td><td>Widget</td><td>A</td><td>100</td><td>20.0</td></tr><tr><td>2025-01-01</td><td>Widget</td><td>B</td><td>50</td><td>20.0</td></tr><tr><td>2025-01-02</td><td>Gadget</td><td>A</td><td>150</td><td>15.5</td></tr><tr><td>2025-01-03</td><td>Widget</td><td>A</td><td>200</td><td>20.0</td></tr><tr><td>2025-01-03</td><td>Gadget</td><td>C</td><td>75</td><td>15.5</td></tr><tr><td>2025-01-04</td><td>Widget</td><td>B</td><td>120</td><td>20.0</td></tr></tbody></table></div>"
      ]
     },
     "metadata": {
      "application/vnd.databricks.v1+output": {
       "addedWidgets": {},
       "aggData": [],
       "aggError": "",
       "aggOverflow": false,
       "aggSchema": [],
       "aggSeriesLimitReached": false,
       "aggType": "",
       "arguments": {},
       "columnCustomDisplayInfos": {},
       "data": [
        [
         "2025-01-01",
         "Widget",
         "A",
         100,
         20.0
        ],
        [
         "2025-01-01",
         "Widget",
         "B",
         50,
         20.0
        ],
        [
         "2025-01-02",
         "Gadget",
         "A",
         150,
         15.5
        ],
        [
         "2025-01-03",
         "Widget",
         "A",
         200,
         20.0
        ],
        [
         "2025-01-03",
         "Gadget",
         "C",
         75,
         15.5
        ],
        [
         "2025-01-04",
         "Widget",
         "B",
         120,
         20.0
        ]
       ],
       "datasetInfos": [],
       "dbfsResultPath": null,
       "isJsonSchema": true,
       "metadata": {},
       "overflow": false,
       "plotOptions": {
        "customPlotOptions": {},
        "displayType": "table",
        "pivotAggregation": null,
        "pivotColumns": null,
        "xColumns": null,
        "yColumns": null
       },
       "removedWidgets": [],
       "schema": [
        {
         "metadata": "{\"__detected_date_formats\":\"yyyy-M-d\"}",
         "name": "Date",
         "type": "\"date\""
        },
        {
         "metadata": "{}",
         "name": "Product",
         "type": "\"string\""
        },
        {
         "metadata": "{}",
         "name": "Region",
         "type": "\"string\""
        },
        {
         "metadata": "{}",
         "name": "UnitsSold",
         "type": "\"integer\""
        },
        {
         "metadata": "{}",
         "name": "UnitPrice",
         "type": "\"double\""
        }
       ],
       "type": "table"
      }
     },
     "output_type": "display_data"
    }
   ],
   "source": [
    "raw_df = spark.read.format(\"csv\") \\\n",
    "                    .option(\"header\",\"True\") \\\n",
    "                    .option(\"inferSchema\",\"True\") \\\n",
    "                    .load(\"/mnt/mount-raw-container/sales_data_proj_2.csv\")\n",
    "\n",
    "raw_df.display()"
   ]
  },
  {
   "cell_type": "markdown",
   "metadata": {
    "application/vnd.databricks.v1+cell": {
     "cellMetadata": {},
     "inputWidgets": {},
     "nuid": "c6e6c5bb-8740-43f3-9b8f-f89668625eba",
     "showTitle": false,
     "tableResultSettingsMap": {},
     "title": ""
    }
   },
   "source": [
    "### Remove duplicates and rows with null values"
   ]
  },
  {
   "cell_type": "code",
   "execution_count": 0,
   "metadata": {
    "application/vnd.databricks.v1+cell": {
     "cellMetadata": {
      "byteLimit": 2048000,
      "rowLimit": 10000
     },
     "inputWidgets": {},
     "nuid": "fd328275-da69-4c50-9e9b-f6175b87cb13",
     "showTitle": false,
     "tableResultSettingsMap": {},
     "title": ""
    }
   },
   "outputs": [
    {
     "output_type": "display_data",
     "data": {
      "text/html": [
       "<style scoped>\n",
       "  .table-result-container {\n",
       "    max-height: 300px;\n",
       "    overflow: auto;\n",
       "  }\n",
       "  table, th, td {\n",
       "    border: 1px solid black;\n",
       "    border-collapse: collapse;\n",
       "  }\n",
       "  th, td {\n",
       "    padding: 5px;\n",
       "  }\n",
       "  th {\n",
       "    text-align: left;\n",
       "  }\n",
       "</style><div class='table-result-container'><table class='table-result'><thead style='background-color: white'><tr><th>Date</th><th>Product</th><th>Region</th><th>UnitsSold</th><th>UnitPrice</th></tr></thead><tbody><tr><td>2025-01-03</td><td>Gadget</td><td>C</td><td>75</td><td>15.5</td></tr><tr><td>2025-01-01</td><td>Widget</td><td>B</td><td>50</td><td>20.0</td></tr><tr><td>2025-01-02</td><td>Gadget</td><td>A</td><td>150</td><td>15.5</td></tr><tr><td>2025-01-01</td><td>Widget</td><td>A</td><td>100</td><td>20.0</td></tr><tr><td>2025-01-03</td><td>Widget</td><td>A</td><td>200</td><td>20.0</td></tr><tr><td>2025-01-04</td><td>Widget</td><td>B</td><td>120</td><td>20.0</td></tr></tbody></table></div>"
      ]
     },
     "metadata": {
      "application/vnd.databricks.v1+output": {
       "addedWidgets": {},
       "aggData": [],
       "aggError": "",
       "aggOverflow": false,
       "aggSchema": [],
       "aggSeriesLimitReached": false,
       "aggType": "",
       "arguments": {},
       "columnCustomDisplayInfos": {},
       "data": [
        [
         "2025-01-03",
         "Gadget",
         "C",
         75,
         15.5
        ],
        [
         "2025-01-01",
         "Widget",
         "B",
         50,
         20.0
        ],
        [
         "2025-01-02",
         "Gadget",
         "A",
         150,
         15.5
        ],
        [
         "2025-01-01",
         "Widget",
         "A",
         100,
         20.0
        ],
        [
         "2025-01-03",
         "Widget",
         "A",
         200,
         20.0
        ],
        [
         "2025-01-04",
         "Widget",
         "B",
         120,
         20.0
        ]
       ],
       "datasetInfos": [],
       "dbfsResultPath": null,
       "isJsonSchema": true,
       "metadata": {},
       "overflow": false,
       "plotOptions": {
        "customPlotOptions": {},
        "displayType": "table",
        "pivotAggregation": null,
        "pivotColumns": null,
        "xColumns": null,
        "yColumns": null
       },
       "removedWidgets": [],
       "schema": [
        {
         "metadata": "{\"__detected_date_formats\":\"yyyy-M-d\"}",
         "name": "Date",
         "type": "\"date\""
        },
        {
         "metadata": "{}",
         "name": "Product",
         "type": "\"string\""
        },
        {
         "metadata": "{}",
         "name": "Region",
         "type": "\"string\""
        },
        {
         "metadata": "{}",
         "name": "UnitsSold",
         "type": "\"integer\""
        },
        {
         "metadata": "{}",
         "name": "UnitPrice",
         "type": "\"double\""
        }
       ],
       "type": "table"
      }
     },
     "output_type": "display_data"
    }
   ],
   "source": [
    "clean_df = raw_df.dropDuplicates().dropna()\n",
    "clean_df.display()"
   ]
  },
  {
   "cell_type": "markdown",
   "metadata": {
    "application/vnd.databricks.v1+cell": {
     "cellMetadata": {},
     "inputWidgets": {},
     "nuid": "961fcdcb-7e32-484a-8cb9-d896b200df88",
     "showTitle": false,
     "tableResultSettingsMap": {},
     "title": ""
    }
   },
   "source": [
    "### Add a new column \"TotalSale\" calculated as UnitsSold * UnitPrice"
   ]
  },
  {
   "cell_type": "code",
   "execution_count": 0,
   "metadata": {
    "application/vnd.databricks.v1+cell": {
     "cellMetadata": {
      "byteLimit": 2048000,
      "rowLimit": 10000
     },
     "inputWidgets": {},
     "nuid": "12620f6a-c7c5-4ae7-a901-e3c3daec595f",
     "showTitle": false,
     "tableResultSettingsMap": {},
     "title": ""
    }
   },
   "outputs": [
    {
     "output_type": "display_data",
     "data": {
      "text/html": [
       "<style scoped>\n",
       "  .table-result-container {\n",
       "    max-height: 300px;\n",
       "    overflow: auto;\n",
       "  }\n",
       "  table, th, td {\n",
       "    border: 1px solid black;\n",
       "    border-collapse: collapse;\n",
       "  }\n",
       "  th, td {\n",
       "    padding: 5px;\n",
       "  }\n",
       "  th {\n",
       "    text-align: left;\n",
       "  }\n",
       "</style><div class='table-result-container'><table class='table-result'><thead style='background-color: white'><tr><th>Date</th><th>Product</th><th>Region</th><th>UnitsSold</th><th>UnitPrice</th><th>TotalSale</th></tr></thead><tbody><tr><td>2025-01-03</td><td>Gadget</td><td>C</td><td>75</td><td>15.5</td><td>1162.5</td></tr><tr><td>2025-01-01</td><td>Widget</td><td>B</td><td>50</td><td>20.0</td><td>1000.0</td></tr><tr><td>2025-01-02</td><td>Gadget</td><td>A</td><td>150</td><td>15.5</td><td>2325.0</td></tr><tr><td>2025-01-01</td><td>Widget</td><td>A</td><td>100</td><td>20.0</td><td>2000.0</td></tr><tr><td>2025-01-03</td><td>Widget</td><td>A</td><td>200</td><td>20.0</td><td>4000.0</td></tr><tr><td>2025-01-04</td><td>Widget</td><td>B</td><td>120</td><td>20.0</td><td>2400.0</td></tr></tbody></table></div>"
      ]
     },
     "metadata": {
      "application/vnd.databricks.v1+output": {
       "addedWidgets": {},
       "aggData": [],
       "aggError": "",
       "aggOverflow": false,
       "aggSchema": [],
       "aggSeriesLimitReached": false,
       "aggType": "",
       "arguments": {},
       "columnCustomDisplayInfos": {},
       "data": [
        [
         "2025-01-03",
         "Gadget",
         "C",
         75,
         15.5,
         1162.5
        ],
        [
         "2025-01-01",
         "Widget",
         "B",
         50,
         20.0,
         1000.0
        ],
        [
         "2025-01-02",
         "Gadget",
         "A",
         150,
         15.5,
         2325.0
        ],
        [
         "2025-01-01",
         "Widget",
         "A",
         100,
         20.0,
         2000.0
        ],
        [
         "2025-01-03",
         "Widget",
         "A",
         200,
         20.0,
         4000.0
        ],
        [
         "2025-01-04",
         "Widget",
         "B",
         120,
         20.0,
         2400.0
        ]
       ],
       "datasetInfos": [],
       "dbfsResultPath": null,
       "isJsonSchema": true,
       "metadata": {},
       "overflow": false,
       "plotOptions": {
        "customPlotOptions": {},
        "displayType": "table",
        "pivotAggregation": null,
        "pivotColumns": null,
        "xColumns": null,
        "yColumns": null
       },
       "removedWidgets": [],
       "schema": [
        {
         "metadata": "{\"__detected_date_formats\":\"yyyy-M-d\"}",
         "name": "Date",
         "type": "\"date\""
        },
        {
         "metadata": "{}",
         "name": "Product",
         "type": "\"string\""
        },
        {
         "metadata": "{}",
         "name": "Region",
         "type": "\"string\""
        },
        {
         "metadata": "{}",
         "name": "UnitsSold",
         "type": "\"integer\""
        },
        {
         "metadata": "{}",
         "name": "UnitPrice",
         "type": "\"double\""
        },
        {
         "metadata": "{}",
         "name": "TotalSale",
         "type": "\"double\""
        }
       ],
       "type": "table"
      }
     },
     "output_type": "display_data"
    }
   ],
   "source": [
    "transformed_df = clean_df.withColumn(\"TotalSale\", col(\"UnitsSold\") * col(\"UnitPrice\"))\n",
    "transformed_df.display()"
   ]
  },
  {
   "cell_type": "markdown",
   "metadata": {
    "application/vnd.databricks.v1+cell": {
     "cellMetadata": {},
     "inputWidgets": {},
     "nuid": "324edd40-9d91-4416-a6b5-0b61b63abfc5",
     "showTitle": false,
     "tableResultSettingsMap": {},
     "title": ""
    }
   },
   "source": [
    "### Write the transformed data back to ADLS in Parquet format"
   ]
  },
  {
   "cell_type": "code",
   "execution_count": 0,
   "metadata": {
    "application/vnd.databricks.v1+cell": {
     "cellMetadata": {
      "byteLimit": 2048000,
      "rowLimit": 10000
     },
     "inputWidgets": {},
     "nuid": "60f99a23-915d-42b1-a50b-bc7624f8ac34",
     "showTitle": false,
     "tableResultSettingsMap": {},
     "title": ""
    }
   },
   "outputs": [],
   "source": [
    "transformed_df.write.mode(\"overwrite\").parquet(\"abfss://herovired-processed@storageadlsdemooin.dfs.core.windows.net/sales_data_transformed\")"
   ]
  },
  {
   "cell_type": "code",
   "execution_count": 0,
   "metadata": {
    "application/vnd.databricks.v1+cell": {
     "cellMetadata": {},
     "inputWidgets": {},
     "nuid": "601ac183-6a15-402a-928c-1f55103303a8",
     "showTitle": false,
     "tableResultSettingsMap": {},
     "title": ""
    }
   },
   "outputs": [],
   "source": []
  }
 ],
 "metadata": {
  "application/vnd.databricks.v1+notebook": {
   "computePreferences": null,
   "dashboards": [],
   "environmentMetadata": {
    "base_environment": "",
    "environment_version": "2"
   },
   "inputWidgetPreferences": null,
   "language": "python",
   "notebookMetadata": {
    "pythonIndentUnit": 4
   },
   "notebookName": "TransformSalesData",
   "widgets": {
    "ContainerName": {
     "currentValue": "",
     "nuid": "e3c24e62-c58a-48ec-8fde-235f5086a0e4",
     "typedWidgetInfo": {
      "autoCreated": false,
      "defaultValue": "",
      "label": "ContainerName",
      "name": "ContainerName",
      "options": {
       "widgetDisplayType": "Text",
       "validationRegex": null
      },
      "parameterDataType": "String"
     },
     "widgetInfo": {
      "widgetType": "text",
      "defaultValue": "",
      "label": "ContainerName",
      "name": "ContainerName",
      "options": {
       "widgetType": "text",
       "autoCreated": false,
       "validationRegex": null
      }
     }
    },
    "StorageAccountName": {
     "currentValue": "",
     "nuid": "864b1302-5401-41f1-b39f-4047ab101949",
     "typedWidgetInfo": {
      "autoCreated": false,
      "defaultValue": "",
      "label": "StorageAccountName",
      "name": "StorageAccountName",
      "options": {
       "widgetDisplayType": "Text",
       "validationRegex": null
      },
      "parameterDataType": "String"
     },
     "widgetInfo": {
      "widgetType": "text",
      "defaultValue": "",
      "label": "StorageAccountName",
      "name": "StorageAccountName",
      "options": {
       "widgetType": "text",
       "autoCreated": false,
       "validationRegex": null
      }
     }
    }
   }
  },
  "language_info": {
   "name": "python"
  }
 },
 "nbformat": 4,
 "nbformat_minor": 0
}